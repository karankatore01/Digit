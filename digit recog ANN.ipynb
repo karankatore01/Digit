{
 "cells": [
  {
   "cell_type": "code",
   "execution_count": 1,
   "id": "3629cc04",
   "metadata": {},
   "outputs": [],
   "source": [
    "import pandas as pd\n",
    "import matplotlib.pyplot as plt"
   ]
  },
  {
   "cell_type": "code",
   "execution_count": 2,
   "id": "7893a9a4",
   "metadata": {},
   "outputs": [],
   "source": [
    "df = pd.read_csv('train.csv')"
   ]
  },
  {
   "cell_type": "code",
   "execution_count": 3,
   "id": "78ae2fb3",
   "metadata": {},
   "outputs": [
    {
     "data": {
      "text/plain": [
       "(42000, 785)"
      ]
     },
     "execution_count": 3,
     "metadata": {},
     "output_type": "execute_result"
    }
   ],
   "source": [
    "df.shape"
   ]
  },
  {
   "cell_type": "code",
   "execution_count": 4,
   "id": "56b88ca1",
   "metadata": {},
   "outputs": [
    {
     "data": {
      "text/plain": [
       "Index(['label', 'pixel0', 'pixel1', 'pixel2', 'pixel3', 'pixel4', 'pixel5',\n",
       "       'pixel6', 'pixel7', 'pixel8',\n",
       "       ...\n",
       "       'pixel774', 'pixel775', 'pixel776', 'pixel777', 'pixel778', 'pixel779',\n",
       "       'pixel780', 'pixel781', 'pixel782', 'pixel783'],\n",
       "      dtype='object', length=785)"
      ]
     },
     "execution_count": 4,
     "metadata": {},
     "output_type": "execute_result"
    }
   ],
   "source": [
    "df.columns"
   ]
  },
  {
   "cell_type": "code",
   "execution_count": 5,
   "id": "a23c57e7",
   "metadata": {},
   "outputs": [
    {
     "data": {
      "text/plain": [
       "0    1\n",
       "1    0\n",
       "2    1\n",
       "3    4\n",
       "4    0\n",
       "Name: label, dtype: int64"
      ]
     },
     "execution_count": 5,
     "metadata": {},
     "output_type": "execute_result"
    }
   ],
   "source": [
    "df['label'].head()"
   ]
  },
  {
   "cell_type": "code",
   "execution_count": 6,
   "id": "30224a76",
   "metadata": {},
   "outputs": [],
   "source": [
    "X = df.drop('label', axis=1)"
   ]
  },
  {
   "cell_type": "code",
   "execution_count": 7,
   "id": "203327b7",
   "metadata": {},
   "outputs": [
    {
     "data": {
      "text/plain": [
       "(42000, 784)"
      ]
     },
     "execution_count": 7,
     "metadata": {},
     "output_type": "execute_result"
    }
   ],
   "source": [
    "X.shape"
   ]
  },
  {
   "cell_type": "code",
   "execution_count": 8,
   "id": "1b41632d",
   "metadata": {},
   "outputs": [
    {
     "data": {
      "text/plain": [
       "<matplotlib.image.AxesImage at 0x1d5157bf340>"
      ]
     },
     "execution_count": 8,
     "metadata": {},
     "output_type": "execute_result"
    },
    {
     "data": {
      "image/png": "[encoded data removed]",
      "text/plain": [
       "<Figure size 640x480 with 1 Axes>"
      ]
     },
     "metadata": {},
     "output_type": "display_data"
    }
   ],
   "source": [
    "img = X.iloc[4].values.reshape(28,28)\n",
    "plt.imshow(img)"
   ]
  },
  {
   "cell_type": "code",
   "execution_count": 9,
   "id": "967429b9",
   "metadata": {},
   "outputs": [
    {
     "data": {
      "text/plain": [
       "(42000, 784)"
      ]
     },
     "execution_count": 9,
     "metadata": {},
     "output_type": "execute_result"
    }
   ],
   "source": [
    "X.shape"
   ]
  },
  {
   "cell_type": "code",
   "execution_count": 10,
   "id": "334a964b",
   "metadata": {},
   "outputs": [],
   "source": [
    "y = df['label']"
   ]
  },
  {
   "cell_type": "code",
   "execution_count": 11,
   "id": "a83cb2c3",
   "metadata": {},
   "outputs": [],
   "source": [
    "from sklearn.model_selection import train_test_split\n",
    "X_train, X_test, y_train, y_test = train_test_split(X,y,test_size=0.2, random_state=19)"
   ]
  },
  {
   "cell_type": "code",
   "execution_count": 12,
   "id": "899fa5dd",
   "metadata": {},
   "outputs": [
    {
     "data": {
      "text/plain": [
       "(33600, 784)"
      ]
     },
     "execution_count": 12,
     "metadata": {},
     "output_type": "execute_result"
    }
   ],
   "source": [
    "X_train.shape"
   ]
  },
  {
   "cell_type": "code",
   "execution_count": 13,
   "id": "2de8d019",
   "metadata": {},
   "outputs": [
    {
     "data": {
      "text/plain": [
       "array([  0,   0,   0,   0,   0,   0,   0,   0,   0,   0,   0,   0,   0,\n",
       "         0,   0,   0,   0,   0,   0,   0,   0,   0,   0,   0,   0,   0,\n",
       "         0,   0,   0,   0,   0,   0,   0,   0,   0,   0,   0,   0,   0,\n",
       "         0,   0,   0,   0,   0,   0,   0,   0,   0,   0,   0,   0,   0,\n",
       "         0,   0,   0,   0,   0,   0,   0,   0,   0,   0,   0,   0,   0,\n",
       "         0,   0,   0,   0,   0,   0,   0,   0,   0,   0,   0,   0,   0,\n",
       "         0,   0,   0,   0,   0,   0,   0,   0,   0,   0,   0,   0,   0,\n",
       "         0,   0,   0,   0,   0,   0,   0,   0,   0,   0,   0,   0,   0,\n",
       "         0,   0,   0,   0,   0,   0,   0,   0,   0,   0,   0,   0,   0,\n",
       "         0,   0,   0,   0,   0,   0,   0,   0,   0,   0,   0,   0,   0,\n",
       "         0,   0, 188, 255,  94,   0,   0,   0,   0,   0,   0,   0,   0,\n",
       "         0,   0,   0,   0,   0,   0,   0,   0,   0,   0,   0,   0,   0,\n",
       "         0,   0,   0, 191, 250, 253,  93,   0,   0,   0,   0,   0,   0,\n",
       "         0,   0,   0,   0,   0,   0,   0,   0,   0,   0,   0,   0,   0,\n",
       "         0,   0,   0,   0, 123, 248, 253, 167,  10,   0,   0,   0,   0,\n",
       "         0,   0,   0,   0,   0,   0,   0,   0,   0,   0,   0,   0,   0,\n",
       "         0,   0,   0,   0,   0,  80, 247, 253, 208,  13,   0,   0,   0,\n",
       "         0,   0,   0,   0,   0,   0,   0,   0,   0,   0,   0,   0,   0,\n",
       "         0,   0,   0,   0,   0,   0,  29, 207, 253, 235,  77,   0,   0,\n",
       "         0,   0,   0,   0,   0,   0,   0,   0,   0,   0,   0,   0,   0,\n",
       "         0,   0,   0,   0,   0,   0,   0,  54, 209, 253, 253,  88,   0,\n",
       "         0,   0,   0,   0,   0,   0,   0,   0,   0,   0,   0,   0,   0,\n",
       "         0,   0,   0,   0,   0,   0,   0,   0,  93, 254, 253, 238, 170,\n",
       "        17,   0,   0,   0,   0,   0,   0,   0,   0,   0,   0,   0,   0,\n",
       "         0,   0,   0,   0,   0,   0,   0,   0,   0,  23, 210, 254, 253,\n",
       "       159,   0,   0,   0,   0,   0,   0,   0,   0,   0,   0,   0,   0,\n",
       "         0,   0,   0,   0,   0,   0,   0,   0,   0,   0,  16, 209, 253,\n",
       "       254, 240,  81,   0,   0,   0,   0,   0,   0,   0,   0,   0,   0,\n",
       "         0,   0,   0,   0,   0,   0,   0,   0,   0,   0,   0,   0,  27,\n",
       "       253, 253, 254,  13,   0,   0,   0,   0,   0,   0,   0,   0,   0,\n",
       "         0,   0,   0,   0,   0,   0,   0,   0,   0,   0,   0,   0,   0,\n",
       "        20, 206, 254, 254, 198,   7,   0,   0,   0,   0,   0,   0,   0,\n",
       "         0,   0,   0,   0,   0,   0,   0,   0,   0,   0,   0,   0,   0,\n",
       "         0,   0, 168, 253, 253, 196,   7,   0,   0,   0,   0,   0,   0,\n",
       "         0,   0,   0,   0,   0,   0,   0,   0,   0,   0,   0,   0,   0,\n",
       "         0,   0,   0,  20, 203, 253, 248,  76,   0,   0,   0,   0,   0,\n",
       "         0,   0,   0,   0,   0,   0,   0,   0,   0,   0,   0,   0,   0,\n",
       "         0,   0,   0,   0,  22, 188, 253, 245,  93,   0,   0,   0,   0,\n",
       "         0,   0,   0,   0,   0,   0,   0,   0,   0,   0,   0,   0,   0,\n",
       "         0,   0,   0,   0,   0,   0, 103, 253, 253, 191,   0,   0,   0,\n",
       "         0,   0,   0,   0,   0,   0,   0,   0,   0,   0,   0,   0,   0,\n",
       "         0,   0,   0,   0,   0,   0,   0,  89, 240, 253, 195,  25,   0,\n",
       "         0,   0,   0,   0,   0,   0,   0,   0,   0,   0,   0,   0,   0,\n",
       "         0,   0,   0,   0,   0,   0,   0,   0,  15, 220, 253, 253,  80,\n",
       "         0,   0,   0,   0,   0,   0,   0,   0,   0,   0,   0,   0,   0,\n",
       "         0,   0,   0,   0,   0,   0,   0,   0,   0,   0,  94, 253, 253,\n",
       "       253,  94,   0,   0,   0,   0,   0,   0,   0,   0,   0,   0,   0,\n",
       "         0,   0,   0,   0,   0,   0,   0,   0,   0,   0,   0,   0,  89,\n",
       "       251, 253, 250, 131,   0,   0,   0,   0,   0,   0,   0,   0,   0,\n",
       "         0,   0,   0,   0,   0,   0,   0,   0,   0,   0,   0,   0,   0,\n",
       "         0,   0, 214, 218,  95,   0,   0,   0,   0,   0,   0,   0,   0,\n",
       "         0,   0,   0,   0,   0,   0,   0,   0,   0,   0,   0,   0,   0,\n",
       "         0,   0,   0,   0,   0,   0,   0,   0,   0,   0,   0,   0,   0,\n",
       "         0,   0,   0,   0,   0,   0,   0,   0,   0,   0,   0,   0,   0,\n",
       "         0,   0,   0,   0,   0,   0,   0,   0,   0,   0,   0,   0,   0,\n",
       "         0,   0,   0,   0,   0,   0,   0,   0,   0,   0,   0,   0,   0,\n",
       "         0,   0,   0,   0,   0,   0,   0,   0,   0,   0,   0,   0,   0,\n",
       "         0,   0,   0,   0,   0,   0,   0,   0,   0,   0,   0,   0,   0,\n",
       "         0,   0,   0,   0,   0,   0,   0,   0,   0,   0,   0,   0,   0,\n",
       "         0,   0,   0,   0,   0,   0,   0,   0,   0,   0,   0,   0,   0,\n",
       "         0,   0,   0,   0], dtype=int64)"
      ]
     },
     "execution_count": 13,
     "metadata": {},
     "output_type": "execute_result"
    }
   ],
   "source": [
    "X.iloc[0].values"
   ]
  },
  {
   "cell_type": "code",
   "execution_count": 14,
   "id": "c2fe1e72",
   "metadata": {},
   "outputs": [],
   "source": [
    "X_train_scaled = X_train/255\n",
    "X_test_scaled = X_test/255"
   ]
  },
  {
   "cell_type": "code",
   "execution_count": 15,
   "id": "71ae89f2",
   "metadata": {},
   "outputs": [
    {
     "data": {
      "text/plain": [
       "(33600, 784)"
      ]
     },
     "execution_count": 15,
     "metadata": {},
     "output_type": "execute_result"
    }
   ],
   "source": [
    "X_train_scaled.shape"
   ]
  },
  {
   "cell_type": "code",
   "execution_count": 16,
   "id": "c783ed41",
   "metadata": {},
   "outputs": [],
   "source": [
    "from tensorflow.keras.utils import to_categorical"
   ]
  },
  {
   "cell_type": "code",
   "execution_count": 17,
   "id": "835c8bb6",
   "metadata": {},
   "outputs": [],
   "source": [
    "y_train_cat = to_categorical(y_train,num_classes=10)\n",
    "y_test_cat = to_categorical(y_test,num_classes=10)"
   ]
  },
  {
   "cell_type": "code",
   "execution_count": 18,
   "id": "00dca9a2",
   "metadata": {},
   "outputs": [
    {
     "data": {
      "text/plain": [
       "(33600, 10)"
      ]
     },
     "execution_count": 18,
     "metadata": {},
     "output_type": "execute_result"
    }
   ],
   "source": [
    "y_train_cat.shape"
   ]
  },
  {
   "cell_type": "code",
   "execution_count": 19,
   "id": "b7cb498e",
   "metadata": {},
   "outputs": [],
   "source": [
    "from tensorflow.keras.models import Sequential\n",
    "from tensorflow.keras.layers import Dense"
   ]
  },
  {
   "cell_type": "code",
   "execution_count": 20,
   "id": "07c22f12",
   "metadata": {},
   "outputs": [],
   "source": [
    "model = Sequential()\n",
    "model.add(Dense(30, activation='relu', input_shape=(784,)))\n",
    "model.add(Dense(20, activation='relu'))\n",
    "model.add(Dense(10, activation='softmax'))\n",
    "\n",
    "model.compile(loss='categorical_crossentropy', metrics=['accuracy'])"
   ]
  },
  {
   "cell_type": "code",
   "execution_count": 21,
   "id": "ad90c57c",
   "metadata": {},
   "outputs": [
    {
     "name": "stdout",
     "output_type": "stream",
     "text": [
      "Epoch 1/20\n",
      "525/525 [==============================] - 12s 4ms/step - loss: 0.5188 - accuracy: 0.8542\n",
      "Epoch 2/20\n",
      "525/525 [==============================] - 2s 3ms/step - loss: 0.2393 - accuracy: 0.9311\n",
      "Epoch 3/20\n",
      "525/525 [==============================] - 2s 3ms/step - loss: 0.1926 - accuracy: 0.9442\n",
      "Epoch 4/20\n",
      "525/525 [==============================] - 2s 3ms/step - loss: 0.1662 - accuracy: 0.9511\n",
      "Epoch 5/20\n",
      "525/525 [==============================] - 2s 3ms/step - loss: 0.1458 - accuracy: 0.9569\n",
      "Epoch 6/20\n",
      "525/525 [==============================] - 2s 3ms/step - loss: 0.1318 - accuracy: 0.9621\n",
      "Epoch 7/20\n",
      "525/525 [==============================] - 2s 3ms/step - loss: 0.1195 - accuracy: 0.9650\n",
      "Epoch 8/20\n",
      "525/525 [==============================] - 2s 3ms/step - loss: 0.1097 - accuracy: 0.9685\n",
      "Epoch 9/20\n",
      "525/525 [==============================] - 2s 3ms/step - loss: 0.1008 - accuracy: 0.9699\n",
      "Epoch 10/20\n",
      "525/525 [==============================] - 2s 3ms/step - loss: 0.0920 - accuracy: 0.9727\n",
      "Epoch 11/20\n",
      "525/525 [==============================] - 2s 3ms/step - loss: 0.0859 - accuracy: 0.9750\n",
      "Epoch 12/20\n",
      "525/525 [==============================] - 2s 3ms/step - loss: 0.0812 - accuracy: 0.9762\n",
      "Epoch 13/20\n",
      "525/525 [==============================] - 2s 3ms/step - loss: 0.0757 - accuracy: 0.9776\n",
      "Epoch 14/20\n",
      "525/525 [==============================] - 2s 3ms/step - loss: 0.0712 - accuracy: 0.9790\n",
      "Epoch 15/20\n",
      "525/525 [==============================] - 2s 4ms/step - loss: 0.0666 - accuracy: 0.9808\n",
      "Epoch 16/20\n",
      "525/525 [==============================] - 2s 3ms/step - loss: 0.0639 - accuracy: 0.9814\n",
      "Epoch 17/20\n",
      "525/525 [==============================] - 2s 3ms/step - loss: 0.0602 - accuracy: 0.9823\n",
      "Epoch 18/20\n",
      "525/525 [==============================] - 2s 3ms/step - loss: 0.0562 - accuracy: 0.9843\n",
      "Epoch 19/20\n",
      "525/525 [==============================] - 2s 3ms/step - loss: 0.0537 - accuracy: 0.9849\n",
      "Epoch 20/20\n",
      "525/525 [==============================] - 2s 3ms/step - loss: 0.0510 - accuracy: 0.9843\n"
     ]
    }
   ],
   "source": [
    "hist = model.fit(X_train_scaled, y_train_cat, epochs=20, batch_size=64)"
   ]
  },
  {
   "cell_type": "code",
   "execution_count": 22,
   "id": "8afd14dd",
   "metadata": {},
   "outputs": [
    {
     "data": {
      "text/plain": [
       "[<matplotlib.lines.Line2D at 0x1d5813f98a0>]"
      ]
     },
     "execution_count": 22,
     "metadata": {},
     "output_type": "execute_result"
    },
    {
     "data": {
      "image/png": "[encoded data removed]",
      "text/plain": [
       "<Figure size 640x480 with 1 Axes>"
      ]
     },
     "metadata": {},
     "output_type": "display_data"
    }
   ],
   "source": [
    "plt.plot(hist.history['loss'])"
   ]
  },
  {
   "cell_type": "code",
   "execution_count": 23,
   "id": "a1931b86",
   "metadata": {},
   "outputs": [
    {
     "data": {
      "text/plain": [
       "(8400, 784)"
      ]
     },
     "execution_count": 23,
     "metadata": {},
     "output_type": "execute_result"
    }
   ],
   "source": [
    "X_test_scaled.shape"
   ]
  },
  {
   "cell_type": "code",
   "execution_count": 24,
   "id": "ff42b353",
   "metadata": {},
   "outputs": [
    {
     "name": "stdout",
     "output_type": "stream",
     "text": [
      "263/263 [==============================] - 1s 3ms/step - loss: 0.1608 - accuracy: 0.9592\n"
     ]
    },
    {
     "data": {
      "text/plain": [
       "[0.160776749253273, 0.9591666460037231]"
      ]
     },
     "execution_count": 24,
     "metadata": {},
     "output_type": "execute_result"
    }
   ],
   "source": [
    "model.evaluate(X_test_scaled,y_test_cat)"
   ]
  },
  {
   "cell_type": "code",
   "execution_count": 25,
   "id": "bfe81136",
   "metadata": {},
   "outputs": [
    {
     "data": {
      "text/plain": [
       "(6, 784)"
      ]
     },
     "execution_count": 25,
     "metadata": {},
     "output_type": "execute_result"
    }
   ],
   "source": [
    "X_test_scaled.iloc[0:6].values.shape"
   ]
  },
  {
   "cell_type": "code",
   "execution_count": 26,
   "id": "f6f7cc1c",
   "metadata": {},
   "outputs": [
    {
     "name": "stdout",
     "output_type": "stream",
     "text": [
      "1/1 [==============================] - 0s 173ms/step\n"
     ]
    }
   ],
   "source": [
    "op = model.predict(X_test_scaled.iloc[0].values.reshape(1,784))"
   ]
  },
  {
   "cell_type": "code",
   "execution_count": 27,
   "id": "93ee48fb",
   "metadata": {},
   "outputs": [
    {
     "data": {
      "text/plain": [
       "array([7], dtype=int64)"
      ]
     },
     "execution_count": 27,
     "metadata": {},
     "output_type": "execute_result"
    }
   ],
   "source": [
    "op.argmax(axis=1)"
   ]
  },
  {
   "cell_type": "code",
   "execution_count": 28,
   "id": "edfb4bc4",
   "metadata": {},
   "outputs": [
    {
     "data": {
      "text/plain": [
       "array([[1.4720983e-09, 1.8202294e-07, 6.3108846e-06, 4.0314947e-03,\n",
       "        4.3594005e-07, 3.4070943e-06, 1.2451945e-10, 9.9209058e-01,\n",
       "        6.0044206e-04, 3.2672286e-03]], dtype=float32)"
      ]
     },
     "execution_count": 28,
     "metadata": {},
     "output_type": "execute_result"
    }
   ],
   "source": [
    "op"
   ]
  },
  {
   "cell_type": "code",
   "execution_count": 29,
   "id": "625f16cf",
   "metadata": {},
   "outputs": [
    {
     "data": {
      "text/plain": [
       "<matplotlib.image.AxesImage at 0x1d584733820>"
      ]
     },
     "execution_count": 29,
     "metadata": {},
     "output_type": "execute_result"
    },
    {
     "data": {
      "image/png": "[encoded data removed]",
      "text/plain": [
       "<Figure size 640x480 with 1 Axes>"
      ]
     },
     "metadata": {},
     "output_type": "display_data"
    }
   ],
   "source": [
    "plt.imshow(X_test_scaled.iloc[0].values.reshape(28,28))"
   ]
  },
  {
   "cell_type": "code",
   "execution_count": 31,
   "id": "a120a59e",
   "metadata": {},
   "outputs": [],
   "source": [
    "import os, cv2"
   ]
  },
  {
   "cell_type": "code",
   "execution_count": null,
   "id": "1ac7c1d0",
   "metadata": {},
   "outputs": [],
   "source": [
    "os.listdir('../../datasets/digit_recognition/my_images/')"
   ]
  },
  {
   "cell_type": "code",
   "execution_count": null,
   "id": "8f83380f",
   "metadata": {},
   "outputs": [],
   "source": [
    "A = cv2.imread('../../datasets/digit_recognition/my_images/'+'0.jpg',0) # 0- read as gray scale"
   ]
  },
  {
   "cell_type": "code",
   "execution_count": null,
   "id": "91862319",
   "metadata": {},
   "outputs": [],
   "source": [
    "A = cv2.resize(A,(28,28))\n",
    "A.shape"
   ]
  },
  {
   "cell_type": "code",
   "execution_count": null,
   "id": "d7edf0d5",
   "metadata": {},
   "outputs": [],
   "source": [
    "A = A.reshape(1,784)/255"
   ]
  },
  {
   "cell_type": "code",
   "execution_count": null,
   "id": "8947192a",
   "metadata": {},
   "outputs": [],
   "source": [
    "A.shape"
   ]
  },
  {
   "cell_type": "code",
   "execution_count": null,
   "id": "ed01e7da",
   "metadata": {},
   "outputs": [],
   "source": [
    "model.predict_on_batch(A).argmax()"
   ]
  },
  {
   "cell_type": "code",
   "execution_count": null,
   "id": "365aad9e",
   "metadata": {},
   "outputs": [],
   "source": [
    "def predict(path):\n",
    "    A = cv2.imread(path, 0)\n",
    "    A = cv2.resize(A,(28,28))\n",
    "    A = A.reshape(1,784)/255\n",
    "    return model.predict_on_batch(A).argmax()"
   ]
  },
  {
   "cell_type": "code",
   "execution_count": 67,
   "id": "e312dbb5",
   "metadata": {},
   "outputs": [
    {
     "data": {
      "text/plain": [
       "0"
      ]
     },
     "execution_count": 67,
     "metadata": {},
     "output_type": "execute_result"
    }
   ],
   "source": [
    "predict('../../datasets/digit_recognition/my_images/'+'00.jpg')"
   ]
  },
  {
   "cell_type": "code",
   "execution_count": 72,
   "id": "c52ff85d",
   "metadata": {},
   "outputs": [
    {
     "name": "stdout",
     "output_type": "stream",
     "text": [
      "../../datasets/digit_recognition/my_images/0.jpg\n",
      "../../datasets/digit_recognition/my_images/00.jpg\n",
      "../../datasets/digit_recognition/my_images/1.jpg\n",
      "../../datasets/digit_recognition/my_images/11.jpg\n",
      "../../datasets/digit_recognition/my_images/2.jpg\n",
      "../../datasets/digit_recognition/my_images/22.jpg\n",
      "../../datasets/digit_recognition/my_images/3.jpg\n",
      "../../datasets/digit_recognition/my_images/33.jpg\n",
      "../../datasets/digit_recognition/my_images/4.jpg\n",
      "../../datasets/digit_recognition/my_images/44.jpg\n",
      "../../datasets/digit_recognition/my_images/5.jpg\n",
      "../../datasets/digit_recognition/my_images/55.jpg\n",
      "../../datasets/digit_recognition/my_images/6.jpg\n",
      "../../datasets/digit_recognition/my_images/66.jpg\n",
      "../../datasets/digit_recognition/my_images/7.jpg\n",
      "../../datasets/digit_recognition/my_images/77.jpg\n",
      "../../datasets/digit_recognition/my_images/8.jpg\n",
      "../../datasets/digit_recognition/my_images/88.jpg\n",
      "../../datasets/digit_recognition/my_images/9.jpg\n",
      "../../datasets/digit_recognition/my_images/99.jpg\n"
     ]
    }
   ],
   "source": [
    "filenames = os.listdir('../../datasets/digit_recognition/my_images/')\n",
    "for filename in filenames:\n",
    "    print('../../datasets/digit_recognition/my_images/'+filename)"
   ]
  },
  {
   "cell_type": "code",
   "execution_count": 75,
   "id": "fcb028d9",
   "metadata": {},
   "outputs": [
    {
     "name": "stdout",
     "output_type": "stream",
     "text": [
      "0.jpg \t 4\n",
      "00.jpg \t 0\n",
      "1.jpg \t 5\n",
      "11.jpg \t 1\n",
      "2.jpg \t 3\n",
      "22.jpg \t 2\n",
      "3.jpg \t 3\n",
      "33.jpg \t 3\n",
      "4.jpg \t 4\n",
      "44.jpg \t 1\n",
      "5.jpg \t 8\n",
      "55.jpg \t 3\n",
      "6.jpg \t 5\n",
      "66.jpg \t 6\n",
      "7.jpg \t 2\n",
      "77.jpg \t 3\n",
      "8.jpg \t 8\n",
      "88.jpg \t 3\n",
      "9.jpg \t 1\n",
      "99.jpg \t 3\n"
     ]
    }
   ],
   "source": [
    "for filename in filenames:\n",
    "    digit = predict('../../datasets/digit_recognition/my_images/'+filename)\n",
    "    print(filename,'\\t',digit)"
   ]
  },
  {
   "cell_type": "code",
   "execution_count": 78,
   "id": "afb3fe53",
   "metadata": {},
   "outputs": [
    {
     "data": {
      "text/plain": [
       "<matplotlib.image.AxesImage at 0x27f06c25fa0>"
      ]
     },
     "execution_count": 78,
     "metadata": {},
     "output_type": "execute_result"
    },
    {
     "data": {
      "image/png": "[encoded data removed]",
      "text/plain": [
       "<Figure size 640x480 with 1 Axes>"
      ]
     },
     "metadata": {},
     "output_type": "display_data"
    }
   ],
   "source": [
    "plt.imshow(A.reshape(28,28))"
   ]
  },
  {
   "cell_type": "code",
   "execution_count": null,
   "id": "a3208ccf",
   "metadata": {},
   "outputs": [],
   "source": []
  }
 ],
 "metadata": {
  "kernelspec": {
   "display_name": "Python [conda env:dsml_19]",
   "language": "python",
   "name": "conda-env-dsml_19-py"
  },
  "language_info": {
   "codemirror_mode": {
    "name": "ipython",
    "version": 3
   },
   "file_extension": ".py",
   "mimetype": "text/x-python",
   "name": "python",
   "nbconvert_exporter": "python",
   "pygments_lexer": "ipython3",
   "version": "3.10.8"
  }
 },
 "nbformat": 4,
 "nbformat_minor": 5
}
